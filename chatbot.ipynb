{
 "cells": [
  {
   "cell_type": "code",
   "execution_count": 22,
   "metadata": {},
   "outputs": [],
   "source": [
    "import numpy as np\n",
    "import nltk\n",
    "import string\n",
    "import random"
   ]
  },
  {
   "cell_type": "code",
   "execution_count": 23,
   "metadata": {},
   "outputs": [],
   "source": [
    "f = open(\"C:\\\\Users\\\\hsrak\\\\OneDrive\\\\Desktop\\\\April\\\\NLP_Class\\\\chatbot\\\\New Folder\\\\chatboat.txt\", 'r', errors='ignore')\n",
    "raw_doc = f.read()"
   ]
  },
  {
   "cell_type": "code",
   "execution_count": 24,
   "metadata": {},
   "outputs": [
    {
     "data": {
      "text/plain": [
       "'All about your studies\\nBachelor\\nMaster\\nApplication and admission\\nInfo days and fairs\\nStudy and live on campus\\nStart internationally\\nStudent finance\\n\\nAt our university\\nWhat makes us special\\nStudy according to the CORE principle\\nUniversity team\\nOur faculties\\nOur institutes\\nInternational\\nresearch\\ncareer\\nYour contact to the SRH Heidelberg University\\ninfo.hshd@srh.de\\n+ 49 6221 6799-000\\nYour contact to the SRH university network\\nstudy@srh.de\\n+ 49 6221 6799-000\\ncontact via WhatsApp\\n\\nSRH Hochschule Heidelberg\\nBachelor\\nMaster\\nDE\\n\\n\\nStudy Applied Data Science and Analytics in Hamburg now!\\nMASTER\\nApplied Data Science and Analytics\\nMASTER OF SCIENCE (M.SC.)\\n4 SEMESTERS\\nFULL TIME\\nON CAMPUS\\n120 ECTS\\nâ‚¬790/MONTH\\nAs a data scientist, you hold a key position to deal with and extract knowledge from large and unstructured datasets.\\n Get to know all about our Applied Data Science & Analytics Master\\'s degree here.\\n\\nEnglish\\nsummer and winter semester\\nRequest information\\nApply now\\nStudents from the Master of Science in Data Analytics\\nHeidelberg, FakultÃ¤t fÃ¼r\\nInformation, Medien und Design\\nYOUR COURSE CONTENT\\nWhat you will learn\\nIn the Masterâ€™s programme Data Analytics, you will gain in-depth knowledge and an understanding of the complete data science process. You will learn how to apply mathematical, \\nstatistical, analytical, and machine learning/deep learning techniques to gain insights from large and often unstructured datasets. \\n\\nThe data visualization and storytelling part of this programme will enable leveraging the data to reveal valuable insights to the stakeholders for decision making. You will also learn with us in a practice-oriented manner: you will work together with real customers in project-related modules. In addition, you will complete a three-month mandatory internship at a company of your choice, and additionally you can write your master thesis in cooperation with a company. This  gives you almost a year of professional experience during your studies.\\n\\nYOUR CAREER PROSPECTS\\nOur innovative approach that pays off\\nHaving a Master of Science degree in â€œApplied Data Science and Analyticsâ€ and qualification in all layers of data science will give you the best chance across all sectors, including the manufacturing industry, banks, insurance companies, the IT sector, consulting, public or industrial research institutes, the public health sector as well as colleges and universities. Graduates from previous years now work for ABB, Heidelberg Cement, Airbus, Accenture, Adidas, Audi, Bosch, BMW, BASF, Deloitte, Deutsche BÃ¶rse, DKFZ, PWC, SAP, and Verivox, as well as for successful SMEs. Our programme will also qualify you for a position in the public sector, work in research, and Ph.D. programmes. \\n\\nPossible fields of Work: \\n\\nData Scientist\\nData Analyst\\nData Engineer\\nData Architect\\nBusiness Intelligence Developer\\nMachine Learning Engineer\\nDeep Learning Expert\\nNatural Language Processing Engineer\\nArtificial Intelligence Expert\\nETL Developer\\nschwarzes Tshirt\\nData Visualization Competition\\nHow to Participate:\\n\\nTheme: Create a visualization which highlights applied data science  blending innovation, technology, and creativity. Your design can highlight the ADSA program or for an added challenge, demonstrate how data visualization can be both meaningful and beautiful.\\nWho:Any SRH student or staff member can participate. Teams of up to 2 people are allowed.\\nSubmission: Send your design in .svg format to sina.mehraeen@srh.de by March 31st, 2024.\\nGuidelines: Designs must be original and suitable for printing on a T-shirt / Hoodie.\\nInclude: Along with your design, provide a brief description explaining the inspiration behind your creation.\\nPrizes:\\n\\nThe winning design will be featured on our official department T-shirts/Hoodie.\\nThe winning designer(s) will receive a special recognition award and a complimentary T-shirt featuring their design.\\nRecognition across department communication channels and social media platforms.\\nDeadline for Submissions: March 31st, 2024.\\n\\nGood luck to all participants, and may the best design win!\\n\\nNote: By submitting your design, you consent to its use for departmental purposes.\\n\\nFor any inquiries, reach out here!\\nProzessgrafik\\nLearning Outcomes\\nIn-depth knowledge and understanding of applied data science.\\nApplication of analytical techniques and machine learning/deep learning algorithms to solve complex data problems in business.\\nThe skills you need to leverage data to reveal valuable insights and help customers make important decisions.\\nThe ability to formulate solutions to technical problems and express them in discourse.\\nACADEMIC EVENTS\\nWiDS - Women in Data Science Conference Rhine-Neckar 2024\\n24.06.2024\\nJoin us for an inspiring and insightful journey at the Women in Data Science Conference Rhine-Neckar 2024, where we celebrate the achievements of women in the field, with a special focus on the transformative power of data science.\\n\\n \\n\\nEvent\\nACADEMIC EVENTS\\nData & Coffee\\n04.07.2024\\nUnlock the Power of Data! Join us for an exhilarating journey into the world of data science. Immerse yourself in insightful discussions, hands-on workshops, and networking with fellow data enthusiasts.\\n\\nEvent\\nCURRICULUM APPLIED DATA SCIENCE AND ANALYTICS (M.SC.)\\nYour curriculum\\n4 SEMESTER\\n120 ECTS\\n\\n1. Semester\\n30\\n1. SEMESTER\\nFirst steps into Case Studies\\n\\n5\\nData Analytics 1: Statistics and Machine Learning\\n\\n8\\nData Visualization and Storytelling 1: Design Basics\\n\\n2\\nBig Data Programming 1: Python\\n\\n6\\nData Engineering 1: Big Data Databases\\n\\n5\\nData Management 1: Data Acquisition and Data Cleaning\\n\\n4\\n\\n2. Semester\\n32\\n\\n3. Semester\\n31\\n\\n4. Semester\\n27\\nCourseplan Applied Data Science and Analytics\\nPDF (19 MB)\\nCampus Hamburg SRH\\nNEW PROGRAMMES\\nNow also available in Hamburg!\\nThe degree programme Applied Data Science and Analytics is now also available at our campus in Hamburg. This degree offers you the perfect opportunity to develop your talents in this growing field. Immerse yourself in the fascinating world of data analysis and take the opportunity to gain important insights and skills.\\n\\nmore about Campus Hamburg!\\nStudent Huy Nguygen Portraitfoto\\nSRH Heidelberg emphasizes practical learning and industry relevance. I was impressed by the university\\'s emphasis on hands-on projects, internships, and real-world applications. This approach will provide me with valuable experience and prepare me for the challenges of the advertising industry. \\nHUY NGUYGEN, STUDENT APPLIED DATA SCIENCE AND ANALYTICS (M.SC.)\\nStudent Supriya Nayak Portraitfoto\\nWith the latest tools like Tableau, R Studio, Apache Spark, and Python, we were able to analyze, manage, and visualize data to create meaningful business insights. Coming from the field of training and business management, choosing this program was my best decision to start my career in the technical field.\\nSUPRIYA NAYAK, STUDENT APPLIED DATA SCIENCE AND ANALYTICS (M.SC.)\\nYOUR LECTURERS\\nWe help you achieve your goals\\n\\n\\nADMISSION REQUIREMENTS\\nOur requirements\\nFirst degree (i.e. first degree qualifying for a profession) in Computer Science, Data Science, Information Technology, Artificial Intelligence, Data Analysis, Mathematics, Business Informatics awarded with 180 CPs.\\nEnglish Proficiency Proof: The students need to be capable of following an English-language course and understanding English- language professional literature. The proficiency of the English language has to be proven through a passed TOEFL test of at least 80 points,  IELTS (6.5), Duolingo (110), MOI (Medium of Instruction letter)\\nKnowledge of machine learning, natural language processing, data warehousing, statistics, data management, data mining is desired\\nProgramming experience with Python, R is a plus\\nYou do not qualify? No problem, SRH has its International College for students who do not qualify for direct entry into our programmes or need to bring up their English language level. You can choose from our Foundation programmes at the College. This is a direct pathway into our university. Find more about here . https://www.srh-international-college.de/\\n\\nFEES AND FUNDING\\nYour tuition fees\\n790 EUR per month full-time + one-time registration fee of 750 EUR (Prices apply only to students from the European Economic Area). \\n\\nApplicants from Non-EEA countries without permanent residence permit need to pay a tuition fee of 6,450 EUR per semester + one-time registration fee of 1,000 EUR and must pay the tuition fees for one semester in advance. From the second semester onwards the payments for the remaining semesters of study are due six weeks before the end of the period of study already paid for. The payments have to be done semesterwise. \\n\\nFor more information and payment modalities, please refer to the current fee schedules (valid from 01.04.2023): \\n\\nFees schedule EEA students\\nFees schedule non-EEA students\\n\\nAPPLY NOW\\nApplication process and deadlines\\nIf youâ€™re interested in our Masterâ€™s programme, simply send us your application online. \\nIf you encounter technical difficulties with the online application or have any questions about your application, Simin Chen will be happy to help you.\\nIf you meet all the requirements, weâ€™ll send you the acceptance letter and the study contract.\\nYou then sign the study contract and return it to us (applies only to applicants from Germany and the EU).\\nYou pay the registration fee (applicable to all students) and, in some cases, one semesterâ€™s advance payment (applies only to students from non-EU/EEA countries).\\nWe then issue your final letter of acceptance.\\nYou take part in our Welcome Days â€“ and then embark on your degree programme!\\nPROJECTS\\nYou might also be interested in this.\\n\\n\\nAPS Certificate\\nPlease note that special conditions apply to applicants from some countries: \\n\\nIndia\\nFrom 1st of November 2022, applicants from India will be required to have their documents verified by the Academic Evaluation Centre New Delhi (APS-India) before applying for a visa. After successful verification you will receive a certificate which allows you to initiate the visa process. Please note that the verification process at APS-India is expected to take approximately 4 weeks. We recommend that you apply for the APS certificate at the same time as you apply to SRH University Heidelberg. For more information, go to the APS-India website: www.aps-india.de \\n\\nThe Peopleâ€™s Republic of China\\nThe procedure of the Academic Evaluation Centre of the Cultural Section at the German Embassy in Bejing (Akademische PrÃ¼fstelle â€“ APS) must have been successfully completed before you apply. The centre checks documents for authenticity and conducts interviews. The original APS certificate must be enclosed with the application documents. For more information, go to the APS website at: www.aps.org.cn. \\n\\nPlease note that you donâ€™t need to complete the APS procedure if you apply for our 3+1 programmes. \\n\\nVietnam\\nThe Academic Evaluation Centre of the German Embassy in Hanoi has been checking the university entrance qualifications of Vietnamese applicants since 2007. The procedure includes checking the submitted written documents as well as an interview with the applicant. An original copy of proof of successful completion of this process, the APS certificate, must be enclosed with the application documents. \\n\\nStudentin mit Handy in der Hand lÃ¤uft an einer roten Wand vorbei\\nYOUR WAY INTO THE FUTURE\\nGet started now\\nApply here\\nIMPRESSIONS\\nBig Data Fest\\nBy playing this video, the provider may store personal data such as your IP address.\\nYOU MIGHT ALSO BE INTERESTED IN\\nOur projects\\n\\n\\nYOUR CONTACT\\nIf you have any questions, our team is happy to help you\\n\\n\\n\\nAll about your studies\\nBachelor\\nMaster\\nApplications and admissions\\nStudy in Germany\\nYour exchange semester at our University\\nEat, live and learn on campus\\n\\nOur university\\nAbout us\\nThe CORE Principle\\nOur schools\\nOur international office\\nYour contact at SRH University Heidelberg\\ninfo.hshd@srh.de\\n+49 6221 6799-000\\nSRH Universities\\nstudy@srh.de\\n+49 6221 6799-000\\ncontact via WhatsApp\\nSRH Hochschule Heidelberg\\nÂ© 2024 \\nCookies\\n \\nData Privacy Policy\\n \\nLegal Notice\\n \\nContact\\n\\n\\n\\nYour Curriculum\\n4 SEMESTERS\\n120 ECTS\\n\\n1st semester\\n30\\n1ST SEMESTER\\nFirst steps into Case Studies\\n\\n5\\nData Analytics 1: Statistics and Machine Learning\\n\\n8\\nData Visualisation and Storytelling 1: Design Basics\\n\\n2\\nBig Data Programming 1: Python\\n\\n6\\nData Engineering 1: Big Data Databases\\n\\n5\\nData Management 1: Data Acquisition and Data Cleaning\\n\\n4\\n2nd semester\\n32\\n2. SEMESTER\\nData Analytics 2: Text Mining and Natural Language Processing\\n\\n7\\nData Engineering 2: Big Data Architectures\\n\\n6\\nData Visualisation and Storytelling 1: Designing Interactive Dashboards\\n\\n5\\nPrivacy, Ethics and International Law\\n\\n6\\nCase Study 1\\n\\n8\\n3rd semester\\n31\\n3. SEMESTER\\nData Management 2: Data Curation and Data Management\\n\\n4\\nData Visualisation and Storytelling 2: Advanced Data Visualization\\n\\n5\\nData Analytics 3: Deep Learning\\n\\n8\\nElective Module: Case Study 2 or Internship\\n\\n14\\n4th semester\\n27\\n4. SEMESTER\\nMaster Thesis\\n\\n27\\nApplied Data Science and Analytics\\nApplied Data Science and Analytics\\nMaster of Science\\nBig Data - Challenges\\n20 October 2021 SRH Hochschule Heidelberg â€“ BDBA 2\\nDiscovery\\nData \\nQuality\\nStorage Security\\nAnalytics\\nDifficulty in finding \\npatterns and insights\\nProblem managing \\nlarge amount of data \\nsets\\nKeeping data secure is \\na challenge\\nPerforming right \\nanalysis\\nMessy, \\nInconsistent,\\nIncomplete \\nSRH Hochschule Heidelberg â€“ Prof. Dr. Swati Chandna\\nLearning Outcomes\\nâ€¢ In-depth knowledge and understanding of Applied Data \\nScience.\\nâ€¢ Application of analytical techniques and machine \\nLearning/deep Learning algorithms to solve complex data \\nproblems in business.\\nâ€¢ Skills you need to leverage data to reveal valuable \\ninsights and help make customers valuable decisions.\\nâ€¢ Formulate technical problem solutions and represent \\nthem in discourse.\\n1/23/22 3 SRH Hochschule Heidelberg â€“ Prof. Dr. Swati Chandna\\nMasters in Applied Data Science and Analytics\\n4\\nUnderstand\\nCollect\\nClean Visualize\\nAnalyze Resolve\\nCase studies\\ndata engineering\\ndata management\\nanalytics\\nvisualisation\\nData storytelling und communication\\nSRH Hochschule Heidelberg â€“ Prof. Dr. Swati Chandna\\nCourse Curriculum\\nSRH Hochschule Heidelberg â€“ Prof. Dr. Swati Chandna 5\\nStudy according to the CORE principle\\nCompetence Oriented Research and Education\\nOur activated teaching & learning method\\nâ€” Group project, Flipped classroom, case studies, project pitches from \\nlocal companies\\nâ€” Practical teaching and exams\\nâ€” 5-week blocks â€“ no end of the semester exam stress!\\nâ€” Focus only on 1-2 subjects in 5 week blocks\\nâ€” Direct contact hours with professors \\nSRH Hochschule Heidelberg â€“ Prof. Dr. Swati Chandna 6\\nThank you!!\\nProf. Dr. Swati Chandna\\nStudy Programme Director \\nApplied Data Science and Analytics, M.Sc.\\nSwati.chandna@srh.de\\nAdmissions Office\\nStudyinheidelberg@srh.de\\nConnect with your students on Unibuddy\\n7\\n@hsheidelberg\\n@SRHHochschuleHD\\n@SRHHochschuleHD\\n@SRH HochschuleHeidelberg\\nSRH University of Applied Sciences Heidelberg\\nBachelor\\nMaster\\nMBA\\nCertificates\\nEN\\n\\n\\nTO THE OVERVIEW OF PEOPLE\\nPROFESSOR\\nProf. Dr.-Ing. Swati Chandna\\nFaculty of Information, Media and Design | Professor of Data Science | Head of Applied Data Science and Analytics (M.Sc) | Country Representative India\\n\\nSpace:LGS 6, 2nd floor, Arc 215\\nEmail:\\nswati.chandna@srh.de\\nFax:\\n+49 6221 6799-202\\nTelephone:\\n+49 6221 6799-223\\nPortraifoto Swati Chandna\\nCOURSES OF STUDIES\\nIn these degree programmes, we see ourselves\\n\\n\\nABOUT ME\\nAbout me\\nMarch 2021 - Current\\nHead of Applied Data Science and Analytics (M.Sc), SRH University of Applied Sciences Heidelberg\\nApril 2020\\nProfessor of Data Science, SRH University of Applied Sciences Heidelberg\\nFebruary 2019 - April 2020\\nSenior Data Scientist, Devoteam\\nMay 2018\\nDoctorate as Dr. -Ing. at the Karlsruhe Institute of Technology\\nMarch 2013 - June 2018\\nResearch Associate, Karlsruhe Institute of Technology\\nEXCERPT\\nI have contributed to these publications\\n\\nBooks and brochures\\nBusch, H., & Chandna, S. (2017). eCodicology: The Computer and the Mediaeval Library (Vol. 11, pp. 3-23). Books on Demand.\\n\\nPeer review\\nChandna, S., & Singhal, A. (2022, January). Towards Outdoor Navigation System for Visually Impaired People using YOLOv5. In 2022 12th International Conference on Cloud Computing, Data Science & Engineering (Confluence) (pp. 617-622). IEEE.\\nBhalekar, N. S., & Chandna, S. (2022) A Smart Fitness Application for Pregnancy that Recommends Workout Plans based on Health Conditions.\\nPednekar, S. A., & Chandna, S. (2022) Optimizing Business Sales and Improving User Experience by Using Intelligent User Interface.\\nDsouza, R. C., Chandna, S., & von Gunten, E. (2022). Ihr Therapaut: A Smartphone Based User Interface for People with Sensorimotor Injuries. In International Conference on Human-Computer Interaction (pp. 494-501). Springer, Cham.\\nDalvi, T., & Chandna, S. (2022). Korb: Design and Development of a User Interface that Presents an Expense Comparison Across Supermarkets with Online Delivery Service. In International Conference on Human-Computer Interaction (pp. 477-484). Springer, Cham.\\nGueye, A. A., & Chandna, S. (2022). D-Braille: A Digital Learning Application for People with Low Vision. In International Conference on Human-Computer Interaction (pp. 455-465). Springer, Cham.\\nThakur, P., & Chandna, S. (2022). MISOhungry: A Platform that Encourages Easy Access to Recipe Search, Management, and Traditional Recipes. In International Conference on Human-Computer Interaction (pp. 249-264). Springer, Cham.\\nKumari, S., Muhuri, S., & Chandna, S. (2021, December). Enhancing Network Robustness Using Statistical Approach Based Rewiring Strategy. In International Advanced Computing Conference (pp. 633-645). Springer, Cham. \\nRiÃŸler-Pipka, N., Chandna, S., & Tonne, D. (2017). Automatische Bild-Text-Analyse: Chancen fÃ¼r die Zeitschriftenforschung jenseits von reinen Textdaten. In DHd.\\nChandna, S. (2019). Automatic Layout Analysis and Visual Exploration of Multidimensional Datasets with Applications in the Digital Humanities. \\nChandna, S., Rindone, F., Dachsbacher, C., & Stotzka, R. (2016, October). Quantitative exploration of large medieval manuscripts data for the codicological research. In 2016 IEEE 6th Symposium on Large Data Analysis and Visualization (LDAV) (pp. 20-28). IEEE.\\nH. Busch, S. Chandna, D. Tonne, C. Krause, P. Vanscheidt, and O. Schmid. Visualisierung mittelalterlicher handschriften im projekt eCodicology. In E. Burr, editor, Konferenzabstracts DHd 2016 â€œModellierung - Vernetzung â€“ Visualisierung: Die Digital Humanities als fÃ¤cherÃ¼bergreifendes Forschungsparadigmaâ€, pages 286â€“ 287, Leipzig, March 2016. Nisaba verlag.\\nH. Busch, S. Chandna, D. Tonne, C. Krause, P. Vanscheidt, and O. Schmid. Quanticod revisited. Neue mÃ¶glichkeiten zur analyse mittelalterlicher handschriften. In Book of Abstracts DHd 2015 â€œVon Daten zu Erkenntnissenâ€, Graz, February 2016.\\nChandna, S., Tonne, D., Stotzka, R., Busch, H., Vanscheidt, P., & Krause, C. (2016). An effective visualization technique for determining co-relations in high-dimensional medieval manuscripts data. Electronic Imaging, 2016(1), 1-6\\nChandna, S., Tonne, D., Jejkal, T., Stotzka, R., Krause, C., Vanscheidt, P., ... & Prabhune, A. (2015, February). Software workflow for the automatic tagging of medieval manuscript images (SWATI). In Document Recognition and Retrieval XXII (Vol. 9402, pp. 23-33). SPIE.\\n\\nNon Peer-Review\\nBusch, H., Philippi, S., Tretter, S., Chandna, S., & Tonne, D. (2015). Maschinen und Manuskripte: digitale ErschlieÃŸung der Handschriften von St. Matthias, 13.10-20.11. 2015; Bibliothek des BischÃ¶flichen Priesterseminars Trier. UniversitÃ¤tsdruckerei Trier.\\nVanscheidt, P., Busch, H., Chandna, S., & Krause, C. (2015). QuantiCod Revisited. Neue AnsÃ¤tze zur quantitativen Analyse mittelalterlicher HandschriftenbestÃ¤nde.\\n\\nKonferenzbeitrÃ¤ge und VortrÃ¤ge\\nS. Chandna and C. Krause. â€œVom Bild zum Text und wieder zurÃ¼ck. Quantitative Forschung mit mittelalterlichen Handschriften im Projekt eCodicologyâ€. In Workshop: â€œFormen der digitalen Edition und PrÃ¤sentation beschrifteter Artefakteâ€, Heidelberg, Germany, 05.12.2014.\\nBusch, Hannah; Chandna, Swati; Krause, Celia; Vanscheidt, Philipp: â€œDevelopment of New Technologies for the Automatic Analysis of Medieval Manuscriptsâ€, In â€œMÃ¶glichkeiten der automatischen Manuskript Manuskriptanalyseâ€, Trier, Germany, 25.02.2014.\\nS. Chandna. Software workflow for the automatic tagging of medieval manuscript images (SWATI). In SPIE/IS&T Electronic Imaging, pages 940206â€“940206. International Society for Optics and Photonics, San Francisco, California, USA, 11.02.2015.\\nS. Chandna. â€œThe Technical Perspective of eCodicologyâ€, In Workshop: MÃ¶glichkeiten der automatischen Mustererkennung und Analyse historischer Dokumente, Karlsruhe, Germany 19.02.2015.\\nS. Chandna. An effective visualization technique for determining co-relations in high-dimensional medieval manuscripts data. In Electronic Imaging, San Francisco, California, USA, 16.02.2016. \\nS. Chandna. Quantitative exploration of large medieval manuscripts data for the codicological research. In Large Data Analysis and Visualization (LDAV), 23.10.2016\\nS. Chandna, H. Busch, O. Schmid. â€œeCodicology-Algorithms for the Automatic Tagging of Medieval Manuscriptsâ€. In Workshop: Forschung mit Schriftquellen in digitalen Zeitalter, Darmstadt, 23.03.2016\\nS. Chandna and N. RiÃŸler-Pipka. Automatische bild-text-analyze: Chancen fÃ¼r die zeitschriftenforschung jenseits von reinen textdaten. In DHd 2017 Digitale Nachhaltigkeit, Bern, Switzerland, 16.02.2017\\nS. Chandna. Training Workshop for Software Workflow for the Automatic Tagging of Images (SWATI). , Karlsruhe, Germany, 16.05.2017\\nS.Chandna, \"Towards Outdoor Navigation System for Visually Impaired People using YOLOv5\" Confluence, India 2022\\n \\n\\n\\nÃ–ffentliche MedienbeitrÃ¤ge\\nChandna, S (19. Februar 2015) Informatiker entrÃ¤tseln alte Manuskripte (Sueddeutsche Zeitung) https://www.sueddeutsche.de/wissen/forschung-der-name-der-rose-informatiker-entraetseln-alte-manuskripte-dpa.urn-newsml-dpa-com-20090101-150219-99-07629 \\n\\nMENTORING@SRH\\nMentoring fÃ¼r Frauen von Frauen!\\nFÃ¼r Wirtschaft und Wissenschaft sind die weiblichen Talente unverzichtbar. Wir unterstÃ¼tzen dich auf deinem Weg mit Rat und Tat!\\n\\nJetzt mehr erfahren\\n\\nRund um dein Studium\\nBachelor\\nMaster\\nBewerbung und Zulassung\\nInfotage und Messen\\nStudiere und lebe auf dem Campus\\nInternational durchstarten\\nStudienfinanzierung\\n\\nAn unserer Hochschule\\nWas uns ausmacht\\nStudieren nach dem CORE Prinzip\\nHochschulteam\\nUnsere FakultÃ¤ten\\nUnsere Institute\\nInternationales\\nForschung\\nKarriere\\nDein Kontakt zur SRH Hochschule Heidelberg\\ninfo.hshd@srh.de\\n+49 6221 6799-000\\nDein Kontakt zum SRH Hochschulverbund\\nstudy@srh.de\\n+49 6221 6799-000\\nper WhatsApp kontaktieren\\nFacebook\\nInstagram\\nLinkedIn\\nTwitter\\nYoutube\\nSRH Hochschule Heidelberg\\nÂ© 2024 \\nCookie-Einstellungen\\n \\nDatenschutz\\n \\nImpressum\\n \\nKontakt\\n \\nLieferkette & Sorgfaltspflichten\\n \\nSRH Holding\\n\\nApply\\n\\n\\nTo apply for the course click on the link :\"https://apply.srh.de/en_GB/courses/course/242-msc-applied-data-science-and-analytics/\"'"
      ]
     },
     "execution_count": 24,
     "metadata": {},
     "output_type": "execute_result"
    }
   ],
   "source": [
    "raw_doc"
   ]
  },
  {
   "cell_type": "code",
   "execution_count": 25,
   "metadata": {},
   "outputs": [],
   "source": [
    "# raw_doc = raw_doc.lower() #Converting entire text to lowercase\n",
    "# nltk.download('punkt') #Using the Punkt tokenizer\n",
    "# nltk.download('wordnet') #Using the wordnet dictionary\n",
    "# nltk.download('omw-1.4')\n",
    "# sentence_tokens = nltk.sent_tokenize (raw_doc)\n",
    "# word_tokens = nltk.word_tokenize(raw_doc)"
   ]
  },
  {
   "cell_type": "code",
   "execution_count": 26,
   "metadata": {},
   "outputs": [
    {
     "name": "stdout",
     "output_type": "stream",
     "text": [
      "Word tokens after removing stop words:\n",
      "['studies', 'bachelor', 'master', 'application', 'admission', 'info', 'days', 'fairs', 'study', 'live', 'campus', 'start', 'internationally', 'student', 'finance', 'university', 'makes', 'us', 'special', 'study', 'according', 'core', 'principle', 'university', 'team', 'faculties', 'institutes', 'international', 'research', 'career', 'contact', 'srh', 'heidelberg', 'university', 'info.hshd', '@', 'srh.de', '+', '49', '6221', '6799-000', 'contact', 'srh', 'university', 'network', 'study', '@', 'srh.de', '+', '49', '6221', '6799-000', 'contact', 'via', 'whatsapp', 'srh', 'hochschule', 'heidelberg', 'bachelor', 'master', 'de', 'study', 'applied', 'data', 'science', 'analytics', 'hamburg', '!', 'master', 'applied', 'data', 'science', 'analytics', 'master', 'science', '(', 'm.sc', '.', ')', '4', 'semesters', 'full', 'time', 'campus', '120', 'ects', 'â‚¬790/month', 'data', 'scientist', ',', 'hold', 'key', 'position', 'deal', 'extract', 'knowledge', 'large', 'unstructured', 'datasets', '.', 'get', 'know', 'applied', 'data', 'science', '&', 'analytics', 'master', \"'s\", 'degree', '.', 'english', 'summer', 'winter', 'semester', 'request', 'information', 'apply', 'students', 'master', 'science', 'data', 'analytics', 'heidelberg', ',', 'fakultã¤t', 'fã¼r', 'information', ',', 'medien', 'und', 'design', 'course', 'content', 'learn', 'masterâ€™s', 'programme', 'data', 'analytics', ',', 'gain', 'in-depth', 'knowledge', 'understanding', 'complete', 'data', 'science', 'process', '.', 'learn', 'apply', 'mathematical', ',', 'statistical', ',', 'analytical', ',', 'machine', 'learning/deep', 'learning', 'techniques', 'gain', 'insights', 'large', 'often', 'unstructured', 'datasets', '.', 'data', 'visualization', 'storytelling', 'part', 'programme', 'enable', 'leveraging', 'data', 'reveal', 'valuable', 'insights', 'stakeholders', 'decision', 'making', '.', 'also', 'learn', 'us', 'practice-oriented', 'manner', ':', 'work', 'together', 'real', 'customers', 'project-related', 'modules', '.', 'addition', ',', 'complete', 'three-month', 'mandatory', 'internship', 'company', 'choice', ',', 'additionally', 'write', 'master', 'thesis', 'cooperation', 'company', '.', 'gives', 'almost', 'year', 'professional', 'experience', 'studies', '.', 'career', 'prospects', 'innovative', 'approach', 'pays', 'master', 'science', 'degree', 'â€œapplied', 'data', 'science', 'analyticsâ€', 'qualification', 'layers', 'data', 'science', 'give', 'best', 'chance', 'across', 'sectors', ',', 'including', 'manufacturing', 'industry', ',', 'banks', ',', 'insurance', 'companies', ',', 'sector', ',', 'consulting', ',', 'public', 'industrial', 'research', 'institutes', ',', 'public', 'health', 'sector', 'well', 'colleges', 'universities', '.', 'graduates', 'previous', 'years', 'work', 'abb', ',', 'heidelberg', 'cement', ',', 'airbus', ',', 'accenture', ',', 'adidas', ',', 'audi', ',', 'bosch', ',', 'bmw', ',', 'basf', ',', 'deloitte', ',', 'deutsche', 'bã¶rse', ',', 'dkfz', ',', 'pwc', ',', 'sap', ',', 'verivox', ',', 'well', 'successful', 'smes', '.', 'programme', 'also', 'qualify', 'position', 'public', 'sector', ',', 'work', 'research', ',', 'ph.d.', 'programmes', '.', 'possible', 'fields', 'work', ':', 'data', 'scientist', 'data', 'analyst', 'data', 'engineer', 'data', 'architect', 'business', 'intelligence', 'developer', 'machine', 'learning', 'engineer', 'deep', 'learning', 'expert', 'natural', 'language', 'processing', 'engineer', 'artificial', 'intelligence', 'expert', 'etl', 'developer', 'schwarzes', 'tshirt', 'data', 'visualization', 'competition', 'participate', ':', 'theme', ':', 'create', 'visualization', 'highlights', 'applied', 'data', 'science', 'blending', 'innovation', ',', 'technology', ',', 'creativity', '.', 'design', 'highlight', 'adsa', 'program', 'added', 'challenge', ',', 'demonstrate', 'data', 'visualization', 'meaningful', 'beautiful', '.', ':', 'srh', 'student', 'staff', 'member', 'participate', '.', 'teams', '2', 'people', 'allowed', '.', 'submission', ':', 'send', 'design', '.svg', 'format', 'sina.mehraeen', '@', 'srh.de', 'march', '31st', ',', '2024.', 'guidelines', ':', 'designs', 'must', 'original', 'suitable', 'printing', 't-shirt', '/', 'hoodie', '.', 'include', ':', 'along', 'design', ',', 'provide', 'brief', 'description', 'explaining', 'inspiration', 'behind', 'creation', '.', 'prizes', ':', 'winning', 'design', 'featured', 'official', 'department', 't-shirts/hoodie', '.', 'winning', 'designer', '(', ')', 'receive', 'special', 'recognition', 'award', 'complimentary', 't-shirt', 'featuring', 'design', '.', 'recognition', 'across', 'department', 'communication', 'channels', 'social', 'media', 'platforms', '.', 'deadline', 'submissions', ':', 'march', '31st', ',', '2024.', 'good', 'luck', 'participants', ',', 'may', 'best', 'design', 'win', '!', 'note', ':', 'submitting', 'design', ',', 'consent', 'use', 'departmental', 'purposes', '.', 'inquiries', ',', 'reach', '!', 'prozessgrafik', 'learning', 'outcomes', 'in-depth', 'knowledge', 'understanding', 'applied', 'data', 'science', '.', 'application', 'analytical', 'techniques', 'machine', 'learning/deep', 'learning', 'algorithms', 'solve', 'complex', 'data', 'problems', 'business', '.', 'skills', 'need', 'leverage', 'data', 'reveal', 'valuable', 'insights', 'help', 'customers', 'make', 'important', 'decisions', '.', 'ability', 'formulate', 'solutions', 'technical', 'problems', 'express', 'discourse', '.', 'academic', 'events', 'wids', '-', 'women', 'data', 'science', 'conference', 'rhine-neckar', '2024', '24.06.2024', 'join', 'us', 'inspiring', 'insightful', 'journey', 'women', 'data', 'science', 'conference', 'rhine-neckar', '2024', ',', 'celebrate', 'achievements', 'women', 'field', ',', 'special', 'focus', 'transformative', 'power', 'data', 'science', '.', 'event', 'academic', 'events', 'data', '&', 'coffee', '04.07.2024', 'unlock', 'power', 'data', '!', 'join', 'us', 'exhilarating', 'journey', 'world', 'data', 'science', '.', 'immerse', 'insightful', 'discussions', ',', 'hands-on', 'workshops', ',', 'networking', 'fellow', 'data', 'enthusiasts', '.', 'event', 'curriculum', 'applied', 'data', 'science', 'analytics', '(', 'm.sc', '.', ')', 'curriculum', '4', 'semester', '120', 'ects', '1.', 'semester', '30', '1.', 'semester', 'first', 'steps', 'case', 'studies', '5', 'data', 'analytics', '1', ':', 'statistics', 'machine', 'learning', '8', 'data', 'visualization', 'storytelling', '1', ':', 'design', 'basics', '2', 'big', 'data', 'programming', '1', ':', 'python', '6', 'data', 'engineering', '1', ':', 'big', 'data', 'databases', '5', 'data', 'management', '1', ':', 'data', 'acquisition', 'data', 'cleaning', '4', '2.', 'semester', '32', '3.', 'semester', '31', '4.', 'semester', '27', 'courseplan', 'applied', 'data', 'science', 'analytics', 'pdf', '(', '19', 'mb', ')', 'campus', 'hamburg', 'srh', 'new', 'programmes', 'also', 'available', 'hamburg', '!', 'degree', 'programme', 'applied', 'data', 'science', 'analytics', 'also', 'available', 'campus', 'hamburg', '.', 'degree', 'offers', 'perfect', 'opportunity', 'develop', 'talents', 'growing', 'field', '.', 'immerse', 'fascinating', 'world', 'data', 'analysis', 'take', 'opportunity', 'gain', 'important', 'insights', 'skills', '.', 'campus', 'hamburg', '!', 'student', 'huy', 'nguygen', 'portraitfoto', 'srh', 'heidelberg', 'emphasizes', 'practical', 'learning', 'industry', 'relevance', '.', 'impressed', 'university', \"'s\", 'emphasis', 'hands-on', 'projects', ',', 'internships', ',', 'real-world', 'applications', '.', 'approach', 'provide', 'valuable', 'experience', 'prepare', 'challenges', 'advertising', 'industry', '.', 'huy', 'nguygen', ',', 'student', 'applied', 'data', 'science', 'analytics', '(', 'm.sc', '.', ')', 'student', 'supriya', 'nayak', 'portraitfoto', 'latest', 'tools', 'like', 'tableau', ',', 'r', 'studio', ',', 'apache', 'spark', ',', 'python', ',', 'able', 'analyze', ',', 'manage', ',', 'visualize', 'data', 'create', 'meaningful', 'business', 'insights', '.', 'coming', 'field', 'training', 'business', 'management', ',', 'choosing', 'program', 'best', 'decision', 'start', 'career', 'technical', 'field', '.', 'supriya', 'nayak', ',', 'student', 'applied', 'data', 'science', 'analytics', '(', 'm.sc', '.', ')', 'lecturers', 'help', 'achieve', 'goals', 'admission', 'requirements', 'requirements', 'first', 'degree', '(', 'i.e', '.', 'first', 'degree', 'qualifying', 'profession', ')', 'computer', 'science', ',', 'data', 'science', ',', 'information', 'technology', ',', 'artificial', 'intelligence', ',', 'data', 'analysis', ',', 'mathematics', ',', 'business', 'informatics', 'awarded', '180', 'cps', '.', 'english', 'proficiency', 'proof', ':', 'students', 'need', 'capable', 'following', 'english-language', 'course', 'understanding', 'english-', 'language', 'professional', 'literature', '.', 'proficiency', 'english', 'language', 'proven', 'passed', 'toefl', 'test', 'least', '80', 'points', ',', 'ielts', '(', '6.5', ')', ',', 'duolingo', '(', '110', ')', ',', 'moi', '(', 'medium', 'instruction', 'letter', ')', 'knowledge', 'machine', 'learning', ',', 'natural', 'language', 'processing', ',', 'data', 'warehousing', ',', 'statistics', ',', 'data', 'management', ',', 'data', 'mining', 'desired', 'programming', 'experience', 'python', ',', 'r', 'plus', 'qualify', '?', 'problem', ',', 'srh', 'international', 'college', 'students', 'qualify', 'direct', 'entry', 'programmes', 'need', 'bring', 'english', 'language', 'level', '.', 'choose', 'foundation', 'programmes', 'college', '.', 'direct', 'pathway', 'university', '.', 'find', '.', 'https', ':', '//www.srh-international-college.de/', 'fees', 'funding', 'tuition', 'fees', '790', 'eur', 'per', 'month', 'full-time', '+', 'one-time', 'registration', 'fee', '750', 'eur', '(', 'prices', 'apply', 'students', 'european', 'economic', 'area', ')', '.', 'applicants', 'non-eea', 'countries', 'without', 'permanent', 'residence', 'permit', 'need', 'pay', 'tuition', 'fee', '6,450', 'eur', 'per', 'semester', '+', 'one-time', 'registration', 'fee', '1,000', 'eur', 'must', 'pay', 'tuition', 'fees', 'one', 'semester', 'advance', '.', 'second', 'semester', 'onwards', 'payments', 'remaining', 'semesters', 'study', 'due', 'six', 'weeks', 'end', 'period', 'study', 'already', 'paid', '.', 'payments', 'done', 'semesterwise', '.', 'information', 'payment', 'modalities', ',', 'please', 'refer', 'current', 'fee', 'schedules', '(', 'valid', '01.04.2023', ')', ':', 'fees', 'schedule', 'eea', 'students', 'fees', 'schedule', 'non-eea', 'students', 'apply', 'application', 'process', 'deadlines', 'youâ€™re', 'interested', 'masterâ€™s', 'programme', ',', 'simply', 'send', 'us', 'application', 'online', '.', 'encounter', 'technical', 'difficulties', 'online', 'application', 'questions', 'application', ',', 'simin', 'chen', 'happy', 'help', '.', 'meet', 'requirements', ',', 'weâ€™ll', 'send', 'acceptance', 'letter', 'study', 'contract', '.', 'sign', 'study', 'contract', 'return', 'us', '(', 'applies', 'applicants', 'germany', 'eu', ')', '.', 'pay', 'registration', 'fee', '(', 'applicable', 'students', ')', ',', 'cases', ',', 'one', 'semesterâ€™s', 'advance', 'payment', '(', 'applies', 'students', 'non-eu/eea', 'countries', ')', '.', 'issue', 'final', 'letter', 'acceptance', '.', 'take', 'part', 'welcome', 'days', 'â€', '“', 'embark', 'degree', 'programme', '!', 'projects', 'might', 'also', 'interested', '.', 'aps', 'certificate', 'please', 'note', 'special', 'conditions', 'apply', 'applicants', 'countries', ':', 'india', '1st', 'november', '2022', ',', 'applicants', 'india', 'required', 'documents', 'verified', 'academic', 'evaluation', 'centre', 'new', 'delhi', '(', 'aps-india', ')', 'applying', 'visa', '.', 'successful', 'verification', 'receive', 'certificate', 'allows', 'initiate', 'visa', 'process', '.', 'please', 'note', 'verification', 'process', 'aps-india', 'expected', 'take', 'approximately', '4', 'weeks', '.', 'recommend', 'apply', 'aps', 'certificate', 'time', 'apply', 'srh', 'university', 'heidelberg', '.', 'information', ',', 'go', 'aps-india', 'website', ':', 'www.aps-india.de', 'peopleâ€™s', 'republic', 'china', 'procedure', 'academic', 'evaluation', 'centre', 'cultural', 'section', 'german', 'embassy', 'bejing', '(', 'akademische', 'prã¼fstelle', 'â€', '“', 'aps', ')', 'must', 'successfully', 'completed', 'apply', '.', 'centre', 'checks', 'documents', 'authenticity', 'conducts', 'interviews', '.', 'original', 'aps', 'certificate', 'must', 'enclosed', 'application', 'documents', '.', 'information', ',', 'go', 'aps', 'website', ':', 'www.aps.org.cn', '.', 'please', 'note', 'donâ€™t', 'need', 'complete', 'aps', 'procedure', 'apply', '3+1', 'programmes', '.', 'vietnam', 'academic', 'evaluation', 'centre', 'german', 'embassy', 'hanoi', 'checking', 'university', 'entrance', 'qualifications', 'vietnamese', 'applicants', 'since', '2007.', 'procedure', 'includes', 'checking', 'submitted', 'written', 'documents', 'well', 'interview', 'applicant', '.', 'original', 'copy', 'proof', 'successful', 'completion', 'process', ',', 'aps', 'certificate', ',', 'must', 'enclosed', 'application', 'documents', '.', 'studentin', 'mit', 'handy', 'der', 'hand', 'lã¤uft', 'einer', 'roten', 'wand', 'vorbei', 'way', 'future', 'get', 'started', 'apply', 'impressions', 'big', 'data', 'fest', 'playing', 'video', ',', 'provider', 'may', 'store', 'personal', 'data', 'ip', 'address', '.', 'might', 'also', 'interested', 'projects', 'contact', 'questions', ',', 'team', 'happy', 'help', 'studies', 'bachelor', 'master', 'applications', 'admissions', 'study', 'germany', 'exchange', 'semester', 'university', 'eat', ',', 'live', 'learn', 'campus', 'university', 'us', 'core', 'principle', 'schools', 'international', 'office', 'contact', 'srh', 'university', 'heidelberg', 'info.hshd', '@', 'srh.de', '+49', '6221', '6799-000', 'srh', 'universities', 'study', '@', 'srh.de', '+49', '6221', '6799-000', 'contact', 'via', 'whatsapp', 'srh', 'hochschule', 'heidelberg', 'â©', '2024', 'cookies', 'data', 'privacy', 'policy', 'legal', 'notice', 'contact', 'curriculum', '4', 'semesters', '120', 'ects', '1st', 'semester', '30', '1st', 'semester', 'first', 'steps', 'case', 'studies', '5', 'data', 'analytics', '1', ':', 'statistics', 'machine', 'learning', '8', 'data', 'visualisation', 'storytelling', '1', ':', 'design', 'basics', '2', 'big', 'data', 'programming', '1', ':', 'python', '6', 'data', 'engineering', '1', ':', 'big', 'data', 'databases', '5', 'data', 'management', '1', ':', 'data', 'acquisition', 'data', 'cleaning', '4', '2nd', 'semester', '32', '2.', 'semester', 'data', 'analytics', '2', ':', 'text', 'mining', 'natural', 'language', 'processing', '7', 'data', 'engineering', '2', ':', 'big', 'data', 'architectures', '6', 'data', 'visualisation', 'storytelling', '1', ':', 'designing', 'interactive', 'dashboards', '5', 'privacy', ',', 'ethics', 'international', 'law', '6', 'case', 'study', '1', '8', '3rd', 'semester', '31', '3.', 'semester', 'data', 'management', '2', ':', 'data', 'curation', 'data', 'management', '4', 'data', 'visualisation', 'storytelling', '2', ':', 'advanced', 'data', 'visualization', '5', 'data', 'analytics', '3', ':', 'deep', 'learning', '8', 'elective', 'module', ':', 'case', 'study', '2', 'internship', '14', '4th', 'semester', '27', '4.', 'semester', 'master', 'thesis', '27', 'applied', 'data', 'science', 'analytics', 'applied', 'data', 'science', 'analytics', 'master', 'science', 'big', 'data', '-', 'challenges', '20', 'october', '2021', 'srh', 'hochschule', 'heidelberg', 'â€', '“', 'bdba', '2', 'discovery', 'data', 'quality', 'storage', 'security', 'analytics', 'difficulty', 'finding', 'patterns', 'insights', 'problem', 'managing', 'large', 'amount', 'data', 'sets', 'keeping', 'data', 'secure', 'challenge', 'performing', 'right', 'analysis', 'messy', ',', 'inconsistent', ',', 'incomplete', 'srh', 'hochschule', 'heidelberg', 'â€', '“', 'prof.', 'dr.', 'swati', 'chandna', 'learning', 'outcomes', 'â€¢', 'in-depth', 'knowledge', 'understanding', 'applied', 'data', 'science', '.', 'â€¢', 'application', 'analytical', 'techniques', 'machine', 'learning/deep', 'learning', 'algorithms', 'solve', 'complex', 'data', 'problems', 'business', '.', 'â€¢', 'skills', 'need', 'leverage', 'data', 'reveal', 'valuable', 'insights', 'help', 'make', 'customers', 'valuable', 'decisions', '.', 'â€¢', 'formulate', 'technical', 'problem', 'solutions', 'represent', 'discourse', '.', '1/23/22', '3', 'srh', 'hochschule', 'heidelberg', 'â€', '“', 'prof.', 'dr.', 'swati', 'chandna', 'masters', 'applied', 'data', 'science', 'analytics', '4', 'understand', 'collect', 'clean', 'visualize', 'analyze', 'resolve', 'case', 'studies', 'data', 'engineering', 'data', 'management', 'analytics', 'visualisation', 'data', 'storytelling', 'und', 'communication', 'srh', 'hochschule', 'heidelberg', 'â€', '“', 'prof.', 'dr.', 'swati', 'chandna', 'course', 'curriculum', 'srh', 'hochschule', 'heidelberg', 'â€', '“', 'prof.', 'dr.', 'swati', 'chandna', '5', 'study', 'according', 'core', 'principle', 'competence', 'oriented', 'research', 'education', 'activated', 'teaching', '&', 'learning', 'method', 'â€', '”', 'group', 'project', ',', 'flipped', 'classroom', ',', 'case', 'studies', ',', 'project', 'pitches', 'local', 'companies', 'â€', '”', 'practical', 'teaching', 'exams', 'â€', '”', '5-week', 'blocks', 'â€', '“', 'end', 'semester', 'exam', 'stress', '!', 'â€', '”', 'focus', '1-2', 'subjects', '5', 'week', 'blocks', 'â€', '”', 'direct', 'contact', 'hours', 'professors', 'srh', 'hochschule', 'heidelberg', 'â€', '“', 'prof.', 'dr.', 'swati', 'chandna', '6', 'thank', '!', '!', 'prof.', 'dr.', 'swati', 'chandna', 'study', 'programme', 'director', 'applied', 'data', 'science', 'analytics', ',', 'm.sc', '.', 'swati.chandna', '@', 'srh.de', 'admissions', 'office', 'studyinheidelberg', '@', 'srh.de', 'connect', 'students', 'unibuddy', '7', '@', 'hsheidelberg', '@', 'srhhochschulehd', '@', 'srhhochschulehd', '@', 'srh', 'hochschuleheidelberg', 'srh', 'university', 'applied', 'sciences', 'heidelberg', 'bachelor', 'master', 'mba', 'certificates', 'en', 'overview', 'people', 'professor', 'prof.', 'dr.-ing', '.', 'swati', 'chandna', 'faculty', 'information', ',', 'media', 'design', '|', 'professor', 'data', 'science', '|', 'head', 'applied', 'data', 'science', 'analytics', '(', 'm.sc', ')', '|', 'country', 'representative', 'india', 'space', ':', 'lgs', '6', ',', '2nd', 'floor', ',', 'arc', '215', 'email', ':', 'swati.chandna', '@', 'srh.de', 'fax', ':', '+49', '6221', '6799-202', 'telephone', ':', '+49', '6221', '6799-223', 'portraifoto', 'swati', 'chandna', 'courses', 'studies', 'degree', 'programmes', ',', 'see', 'march', '2021', '-', 'current', 'head', 'applied', 'data', 'science', 'analytics', '(', 'm.sc', ')', ',', 'srh', 'university', 'applied', 'sciences', 'heidelberg', 'april', '2020', 'professor', 'data', 'science', ',', 'srh', 'university', 'applied', 'sciences', 'heidelberg', 'february', '2019', '-', 'april', '2020', 'senior', 'data', 'scientist', ',', 'devoteam', 'may', '2018', 'doctorate', 'dr.', '-ing', '.', 'karlsruhe', 'institute', 'technology', 'march', '2013', '-', 'june', '2018', 'research', 'associate', ',', 'karlsruhe', 'institute', 'technology', 'excerpt', 'contributed', 'publications', 'books', 'brochures', 'busch', ',', 'h.', ',', '&', 'chandna', ',', 's.', '(', '2017', ')', '.', 'ecodicology', ':', 'computer', 'mediaeval', 'library', '(', 'vol', '.', '11', ',', 'pp', '.', '3-23', ')', '.', 'books', 'demand', '.', 'peer', 'review', 'chandna', ',', 's.', ',', '&', 'singhal', ',', '.', '(', '2022', ',', 'january', ')', '.', 'towards', 'outdoor', 'navigation', 'system', 'visually', 'impaired', 'people', 'using', 'yolov5', '.', '2022', '12th', 'international', 'conference', 'cloud', 'computing', ',', 'data', 'science', '&', 'engineering', '(', 'confluence', ')', '(', 'pp', '.', '617-622', ')', '.', 'ieee', '.', 'bhalekar', ',', 'n.', 's.', ',', '&', 'chandna', ',', 's.', '(', '2022', ')', 'smart', 'fitness', 'application', 'pregnancy', 'recommends', 'workout', 'plans', 'based', 'health', 'conditions', '.', 'pednekar', ',', 's.', 'a.', ',', '&', 'chandna', ',', 's.', '(', '2022', ')', 'optimizing', 'business', 'sales', 'improving', 'user', 'experience', 'using', 'intelligent', 'user', 'interface', '.', 'dsouza', ',', 'r.', 'c.', ',', 'chandna', ',', 's.', ',', '&', 'von', 'gunten', ',', 'e.', '(', '2022', ')', '.', 'ihr', 'therapaut', ':', 'smartphone', 'based', 'user', 'interface', 'people', 'sensorimotor', 'injuries', '.', 'international', 'conference', 'human-computer', 'interaction', '(', 'pp', '.', '494-501', ')', '.', 'springer', ',', 'cham', '.', 'dalvi', ',', 't.', ',', '&', 'chandna', ',', 's.', '(', '2022', ')', '.', 'korb', ':', 'design', 'development', 'user', 'interface', 'presents', 'expense', 'comparison', 'across', 'supermarkets', 'online', 'delivery', 'service', '.', 'international', 'conference', 'human-computer', 'interaction', '(', 'pp', '.', '477-484', ')', '.', 'springer', ',', 'cham', '.', 'gueye', ',', 'a.', 'a.', ',', '&', 'chandna', ',', 's.', '(', '2022', ')', '.', 'd-braille', ':', 'digital', 'learning', 'application', 'people', 'low', 'vision', '.', 'international', 'conference', 'human-computer', 'interaction', '(', 'pp', '.', '455-465', ')', '.', 'springer', ',', 'cham', '.', 'thakur', ',', 'p.', ',', '&', 'chandna', ',', 's.', '(', '2022', ')', '.', 'misohungry', ':', 'platform', 'encourages', 'easy', 'access', 'recipe', 'search', ',', 'management', ',', 'traditional', 'recipes', '.', 'international', 'conference', 'human-computer', 'interaction', '(', 'pp', '.', '249-264', ')', '.', 'springer', ',', 'cham', '.', 'kumari', ',', 's.', ',', 'muhuri', ',', 's.', ',', '&', 'chandna', ',', 's.', '(', '2021', ',', 'december', ')', '.', 'enhancing', 'network', 'robustness', 'using', 'statistical', 'approach', 'based', 'rewiring', 'strategy', '.', 'international', 'advanced', 'computing', 'conference', '(', 'pp', '.', '633-645', ')', '.', 'springer', ',', 'cham', '.', 'riãÿler-pipka', ',', 'n.', ',', 'chandna', ',', 's.', ',', '&', 'tonne', ',', 'd.', '(', '2017', ')', '.', 'automatische', 'bild-text-analyse', ':', 'chancen', 'fã¼r', 'die', 'zeitschriftenforschung', 'jenseits', 'von', 'reinen', 'textdaten', '.', 'dhd', '.', 'chandna', ',', 's.', '(', '2019', ')', '.', 'automatic', 'layout', 'analysis', 'visual', 'exploration', 'multidimensional', 'datasets', 'applications', 'digital', 'humanities', '.', 'chandna', ',', 's.', ',', 'rindone', ',', 'f.', ',', 'dachsbacher', ',', 'c.', ',', '&', 'stotzka', ',', 'r.', '(', '2016', ',', 'october', ')', '.', 'quantitative', 'exploration', 'large', 'medieval', 'manuscripts', 'data', 'codicological', 'research', '.', '2016', 'ieee', '6th', 'symposium', 'large', 'data', 'analysis', 'visualization', '(', 'ldav', ')', '(', 'pp', '.', '20-28', ')', '.', 'ieee', '.', 'h.', 'busch', ',', 's.', 'chandna', ',', 'd.', 'tonne', ',', 'c.', 'krause', ',', 'p.', 'vanscheidt', ',', 'o.', 'schmid', '.', 'visualisierung', 'mittelalterlicher', 'handschriften', 'im', 'projekt', 'ecodicology', '.', 'e.', 'burr', ',', 'editor', ',', 'konferenzabstracts', 'dhd', '2016', 'â€œmodellierung', '-', 'vernetzung', 'â€', '“', 'visualisierung', ':', 'die', 'digital', 'humanities', 'als', 'fã¤cherã¼bergreifendes', 'forschungsparadigmaâ€', ',', 'pages', '286â€', '“', '287', ',', 'leipzig', ',', 'march', '2016.', 'nisaba', 'verlag', '.', 'h.', 'busch', ',', 's.', 'chandna', ',', 'd.', 'tonne', ',', 'c.', 'krause', ',', 'p.', 'vanscheidt', ',', 'o.', 'schmid', '.', 'quanticod', 'revisited', '.', 'neue', 'mã¶glichkeiten', 'zur', 'analyse', 'mittelalterlicher', 'handschriften', '.', 'book', 'abstracts', 'dhd', '2015', 'â€œvon', 'daten', 'zu', 'erkenntnissenâ€', ',', 'graz', ',', 'february', '2016.', 'chandna', ',', 's.', ',', 'tonne', ',', 'd.', ',', 'stotzka', ',', 'r.', ',', 'busch', ',', 'h.', ',', 'vanscheidt', ',', 'p.', ',', '&', 'krause', ',', 'c.', '(', '2016', ')', '.', 'effective', 'visualization', 'technique', 'determining', 'co-relations', 'high-dimensional', 'medieval', 'manuscripts', 'data', '.', 'electronic', 'imaging', ',', '2016', '(', '1', ')', ',', '1-6', 'chandna', ',', 's.', ',', 'tonne', ',', 'd.', ',', 'jejkal', ',', 't.', ',', 'stotzka', ',', 'r.', ',', 'krause', ',', 'c.', ',', 'vanscheidt', ',', 'p.', ',', '...', '&', 'prabhune', ',', '.', '(', '2015', ',', 'february', ')', '.', 'software', 'workflow', 'automatic', 'tagging', 'medieval', 'manuscript', 'images', '(', 'swati', ')', '.', 'document', 'recognition', 'retrieval', 'xxii', '(', 'vol', '.', '9402', ',', 'pp', '.', '23-33', ')', '.', 'spie', '.', 'non', 'peer-review', 'busch', ',', 'h.', ',', 'philippi', ',', 's.', ',', 'tretter', ',', 's.', ',', 'chandna', ',', 's.', ',', '&', 'tonne', ',', 'd.', '(', '2015', ')', '.', 'maschinen', 'und', 'manuskripte', ':', 'digitale', 'erschlieãÿung', 'der', 'handschriften', 'von', 'st.', 'matthias', ',', '13.10-20.11', '.', '2015', ';', 'bibliothek', 'des', 'bischã¶flichen', 'priesterseminars', 'trier', '.', 'universitã¤tsdruckerei', 'trier', '.', 'vanscheidt', ',', 'p.', ',', 'busch', ',', 'h.', ',', 'chandna', ',', 's.', ',', '&', 'krause', ',', 'c.', '(', '2015', ')', '.', 'quanticod', 'revisited', '.', 'neue', 'ansã¤tze', 'zur', 'quantitativen', 'analyse', 'mittelalterlicher', 'handschriftenbestã¤nde', '.', 'konferenzbeitrã¤ge', 'und', 'vortrã¤ge', 's.', 'chandna', 'c.', 'krause', '.', 'â€œvom', 'bild', 'zum', 'text', 'und', 'wieder', 'zurã¼ck', '.', 'quantitative', 'forschung', 'mit', 'mittelalterlichen', 'handschriften', 'im', 'projekt', 'ecodicologyâ€', '.', 'workshop', ':', 'â€œformen', 'der', 'digitalen', 'edition', 'und', 'prã¤sentation', 'beschrifteter', 'artefakteâ€', ',', 'heidelberg', ',', 'germany', ',', '05.12.2014.', 'busch', ',', 'hannah', ';', 'chandna', ',', 'swati', ';', 'krause', ',', 'celia', ';', 'vanscheidt', ',', 'philipp', ':', 'â€œdevelopment', 'new', 'technologies', 'automatic', 'analysis', 'medieval', 'manuscriptsâ€', ',', 'â€œmã¶glichkeiten', 'der', 'automatischen', 'manuskript', 'manuskriptanalyseâ€', ',', 'trier', ',', 'germany', ',', '25.02.2014.', 's.', 'chandna', '.', 'software', 'workflow', 'automatic', 'tagging', 'medieval', 'manuscript', 'images', '(', 'swati', ')', '.', 'spie/is', '&', 'electronic', 'imaging', ',', 'pages', '940206â€', '“', '940206', '.', 'international', 'society', 'optics', 'photonics', ',', 'san', 'francisco', ',', 'california', ',', 'usa', ',', '11.02.2015.', 's.', 'chandna', '.', 'â€œthe', 'technical', 'perspective', 'ecodicologyâ€', ',', 'workshop', ':', 'mã¶glichkeiten', 'der', 'automatischen', 'mustererkennung', 'und', 'analyse', 'historischer', 'dokumente', ',', 'karlsruhe', ',', 'germany', '19.02.2015.', 's.', 'chandna', '.', 'effective', 'visualization', 'technique', 'determining', 'co-relations', 'high-dimensional', 'medieval', 'manuscripts', 'data', '.', 'electronic', 'imaging', ',', 'san', 'francisco', ',', 'california', ',', 'usa', ',', '16.02.2016.', 's.', 'chandna', '.', 'quantitative', 'exploration', 'large', 'medieval', 'manuscripts', 'data', 'codicological', 'research', '.', 'large', 'data', 'analysis', 'visualization', '(', 'ldav', ')', ',', '23.10.2016', 's.', 'chandna', ',', 'h.', 'busch', ',', 'o.', 'schmid', '.', 'â€œecodicology-algorithms', 'automatic', 'tagging', 'medieval', 'manuscriptsâ€', '.', 'workshop', ':', 'forschung', 'mit', 'schriftquellen', 'digitalen', 'zeitalter', ',', 'darmstadt', ',', '23.03.2016', 's.', 'chandna', 'n.', 'riãÿler-pipka', '.', 'automatische', 'bild-text-analyze', ':', 'chancen', 'fã¼r', 'die', 'zeitschriftenforschung', 'jenseits', 'von', 'reinen', 'textdaten', '.', 'dhd', '2017', 'digitale', 'nachhaltigkeit', ',', 'bern', ',', 'switzerland', ',', '16.02.2017', 's.', 'chandna', '.', 'training', 'workshop', 'software', 'workflow', 'automatic', 'tagging', 'images', '(', 'swati', ')', '.', ',', 'karlsruhe', ',', 'germany', ',', '16.05.2017', 's.chandna', ',', '``', 'towards', 'outdoor', 'navigation', 'system', 'visually', 'impaired', 'people', 'using', 'yolov5', \"''\", 'confluence', ',', 'india', '2022', 'ã–ffentliche', 'medienbeitrã¤ge', 'chandna', ',', '(', '19.', 'februar', '2015', ')', 'informatiker', 'entrã¤tseln', 'alte', 'manuskripte', '(', 'sueddeutsche', 'zeitung', ')', 'https', ':', '//www.sueddeutsche.de/wissen/forschung-der-name-der-rose-informatiker-entraetseln-alte-manuskripte-dpa.urn-newsml-dpa-com-20090101-150219-99-07629', 'mentoring', '@', 'srh', 'mentoring', 'fã¼r', 'frauen', 'von', 'frauen', '!', 'fã¼r', 'wirtschaft', 'und', 'wissenschaft', 'sind', 'die', 'weiblichen', 'talente', 'unverzichtbar', '.', 'wir', 'unterstã¼tzen', 'dich', 'auf', 'deinem', 'weg', 'mit', 'rat', 'und', 'tat', '!', 'jetzt', 'mehr', 'erfahren', 'rund', 'um', 'dein', 'studium', 'bachelor', 'master', 'bewerbung', 'und', 'zulassung', 'infotage', 'und', 'messen', 'studiere', 'und', 'lebe', 'auf', 'dem', 'campus', 'international', 'durchstarten', 'studienfinanzierung', 'unserer', 'hochschule', 'uns', 'ausmacht', 'studieren', 'nach', 'dem', 'core', 'prinzip', 'hochschulteam', 'unsere', 'fakultã¤ten', 'unsere', 'institute', 'internationales', 'forschung', 'karriere', 'dein', 'kontakt', 'zur', 'srh', 'hochschule', 'heidelberg', 'info.hshd', '@', 'srh.de', '+49', '6221', '6799-000', 'dein', 'kontakt', 'zum', 'srh', 'hochschulverbund', 'study', '@', 'srh.de', '+49', '6221', '6799-000', 'per', 'whatsapp', 'kontaktieren', 'facebook', 'instagram', 'linkedin', 'twitter', 'youtube', 'srh', 'hochschule', 'heidelberg', 'â©', '2024', 'cookie-einstellungen', 'datenschutz', 'impressum', 'kontakt', 'lieferkette', '&', 'sorgfaltspflichten', 'srh', 'holding', 'apply', 'apply', 'course', 'click', 'link', ':', \"''\", 'https', ':', '//apply.srh.de/en_gb/courses/course/242-msc-applied-data-science-and-analytics/', \"''\"]\n"
     ]
    },
    {
     "name": "stderr",
     "output_type": "stream",
     "text": [
      "[nltk_data] Downloading package punkt to\n",
      "[nltk_data]     C:\\Users\\hsrak\\AppData\\Roaming\\nltk_data...\n",
      "[nltk_data]   Package punkt is already up-to-date!\n",
      "[nltk_data] Downloading package wordnet to\n",
      "[nltk_data]     C:\\Users\\hsrak\\AppData\\Roaming\\nltk_data...\n",
      "[nltk_data]   Package wordnet is already up-to-date!\n",
      "[nltk_data] Downloading package omw-1.4 to\n",
      "[nltk_data]     C:\\Users\\hsrak\\AppData\\Roaming\\nltk_data...\n",
      "[nltk_data]   Package omw-1.4 is already up-to-date!\n"
     ]
    }
   ],
   "source": [
    "import nltk\n",
    "from nltk.corpus import stopwords\n",
    "from nltk.tokenize import word_tokenize\n",
    "\n",
    "# Convert entire text to lowercase\n",
    "raw_doc = raw_doc.lower()\n",
    "\n",
    "# Download necessary NLTK resources\n",
    "nltk.download('punkt')  # Using the Punkt tokenizer\n",
    "nltk.download('wordnet')  # Using the WordNet dictionary\n",
    "nltk.download('omw-1.4')  # Using the Open Multilingual WordNet\n",
    "\n",
    "# Tokenize sentences\n",
    "sentence_tokens = nltk.sent_tokenize(raw_doc)\n",
    "\n",
    "# Tokenize words\n",
    "word_tokens = word_tokenize(raw_doc)\n",
    "\n",
    "# Remove stop words\n",
    "stop_words = set(stopwords.words('english'))\n",
    "filtered_word_tokens = [word for word in word_tokens if word not in stop_words]\n",
    "\n",
    "# Print filtered word tokens\n",
    "print(\"Word tokens after removing stop words:\")\n",
    "print(filtered_word_tokens)\n"
   ]
  },
  {
   "cell_type": "code",
   "execution_count": 27,
   "metadata": {},
   "outputs": [
    {
     "data": {
      "text/plain": [
       "['all about your studies\\nbachelor\\nmaster\\napplication and admission\\ninfo days and fairs\\nstudy and live on campus\\nstart internationally\\nstudent finance\\n\\nat our university\\nwhat makes us special\\nstudy according to the core principle\\nuniversity team\\nour faculties\\nour institutes\\ninternational\\nresearch\\ncareer\\nyour contact to the srh heidelberg university\\ninfo.hshd@srh.de\\n+ 49 6221 6799-000\\nyour contact to the srh university network\\nstudy@srh.de\\n+ 49 6221 6799-000\\ncontact via whatsapp\\n\\nsrh hochschule heidelberg\\nbachelor\\nmaster\\nde\\n\\n\\nstudy applied data science and analytics in hamburg now!']"
      ]
     },
     "execution_count": 27,
     "metadata": {},
     "output_type": "execute_result"
    }
   ],
   "source": [
    "sentence_tokens[:1]"
   ]
  },
  {
   "cell_type": "code",
   "execution_count": 28,
   "metadata": {},
   "outputs": [
    {
     "data": {
      "text/plain": [
       "['all about your studies\\nbachelor\\nmaster\\napplication and admission\\ninfo days and fairs\\nstudy and live on campus\\nstart internationally\\nstudent finance\\n\\nat our university\\nwhat makes us special\\nstudy according to the core principle\\nuniversity team\\nour faculties\\nour institutes\\ninternational\\nresearch\\ncareer\\nyour contact to the srh heidelberg university\\ninfo.hshd@srh.de\\n+ 49 6221 6799-000\\nyour contact to the srh university network\\nstudy@srh.de\\n+ 49 6221 6799-000\\ncontact via whatsapp\\n\\nsrh hochschule heidelberg\\nbachelor\\nmaster\\nde\\n\\n\\nstudy applied data science and analytics in hamburg now!',\n",
       " 'master\\napplied data science and analytics\\nmaster of science (m.sc.)',\n",
       " '4 semesters\\nfull time\\non campus\\n120 ects\\nâ‚¬790/month\\nas a data scientist, you hold a key position to deal with and extract knowledge from large and unstructured datasets.',\n",
       " \"get to know all about our applied data science & analytics master's degree here.\",\n",
       " 'english\\nsummer and winter semester\\nrequest information\\napply now\\nstudents from the master of science in data analytics\\nheidelberg, fakultã¤t fã¼r\\ninformation, medien und design\\nyour course content\\nwhat you will learn\\nin the masterâ€™s programme data analytics, you will gain in-depth knowledge and an understanding of the complete data science process.',\n",
       " 'you will learn how to apply mathematical, \\nstatistical, analytical, and machine learning/deep learning techniques to gain insights from large and often unstructured datasets.',\n",
       " 'the data visualization and storytelling part of this programme will enable leveraging the data to reveal valuable insights to the stakeholders for decision making.',\n",
       " 'you will also learn with us in a practice-oriented manner: you will work together with real customers in project-related modules.',\n",
       " 'in addition, you will complete a three-month mandatory internship at a company of your choice, and additionally you can write your master thesis in cooperation with a company.',\n",
       " 'this  gives you almost a year of professional experience during your studies.',\n",
       " 'your career prospects\\nour innovative approach that pays off\\nhaving a master of science degree in â€œapplied data science and analyticsâ€ and qualification in all layers of data science will give you the best chance across all sectors, including the manufacturing industry, banks, insurance companies, the it sector, consulting, public or industrial research institutes, the public health sector as well as colleges and universities.',\n",
       " 'graduates from previous years now work for abb, heidelberg cement, airbus, accenture, adidas, audi, bosch, bmw, basf, deloitte, deutsche bã¶rse, dkfz, pwc, sap, and verivox, as well as for successful smes.',\n",
       " 'our programme will also qualify you for a position in the public sector, work in research, and ph.d. programmes.',\n",
       " 'possible fields of work: \\n\\ndata scientist\\ndata analyst\\ndata engineer\\ndata architect\\nbusiness intelligence developer\\nmachine learning engineer\\ndeep learning expert\\nnatural language processing engineer\\nartificial intelligence expert\\netl developer\\nschwarzes tshirt\\ndata visualization competition\\nhow to participate:\\n\\ntheme: create a visualization which highlights applied data science  blending innovation, technology, and creativity.',\n",
       " 'your design can highlight the adsa program or for an added challenge, demonstrate how data visualization can be both meaningful and beautiful.',\n",
       " 'who:any srh student or staff member can participate.',\n",
       " 'teams of up to 2 people are allowed.',\n",
       " 'submission: send your design in .svg format to sina.mehraeen@srh.de by march 31st, 2024.\\nguidelines: designs must be original and suitable for printing on a t-shirt / hoodie.',\n",
       " 'include: along with your design, provide a brief description explaining the inspiration behind your creation.',\n",
       " 'prizes:\\n\\nthe winning design will be featured on our official department t-shirts/hoodie.',\n",
       " 'the winning designer(s) will receive a special recognition award and a complimentary t-shirt featuring their design.',\n",
       " 'recognition across department communication channels and social media platforms.',\n",
       " 'deadline for submissions: march 31st, 2024.\\n\\ngood luck to all participants, and may the best design win!',\n",
       " 'note: by submitting your design, you consent to its use for departmental purposes.',\n",
       " 'for any inquiries, reach out here!',\n",
       " 'prozessgrafik\\nlearning outcomes\\nin-depth knowledge and understanding of applied data science.',\n",
       " 'application of analytical techniques and machine learning/deep learning algorithms to solve complex data problems in business.',\n",
       " 'the skills you need to leverage data to reveal valuable insights and help customers make important decisions.',\n",
       " 'the ability to formulate solutions to technical problems and express them in discourse.',\n",
       " 'academic events\\nwids - women in data science conference rhine-neckar 2024\\n24.06.2024\\njoin us for an inspiring and insightful journey at the women in data science conference rhine-neckar 2024, where we celebrate the achievements of women in the field, with a special focus on the transformative power of data science.',\n",
       " 'event\\nacademic events\\ndata & coffee\\n04.07.2024\\nunlock the power of data!',\n",
       " 'join us for an exhilarating journey into the world of data science.',\n",
       " 'immerse yourself in insightful discussions, hands-on workshops, and networking with fellow data enthusiasts.',\n",
       " 'event\\ncurriculum applied data science and analytics (m.sc.)',\n",
       " 'your curriculum\\n4 semester\\n120 ects\\n\\n1. semester\\n30\\n1. semester\\nfirst steps into case studies\\n\\n5\\ndata analytics 1: statistics and machine learning\\n\\n8\\ndata visualization and storytelling 1: design basics\\n\\n2\\nbig data programming 1: python\\n\\n6\\ndata engineering 1: big data databases\\n\\n5\\ndata management 1: data acquisition and data cleaning\\n\\n4\\n\\n2. semester\\n32\\n\\n3. semester\\n31\\n\\n4. semester\\n27\\ncourseplan applied data science and analytics\\npdf (19 mb)\\ncampus hamburg srh\\nnew programmes\\nnow also available in hamburg!',\n",
       " 'the degree programme applied data science and analytics is now also available at our campus in hamburg.',\n",
       " 'this degree offers you the perfect opportunity to develop your talents in this growing field.',\n",
       " 'immerse yourself in the fascinating world of data analysis and take the opportunity to gain important insights and skills.',\n",
       " 'more about campus hamburg!',\n",
       " 'student huy nguygen portraitfoto\\nsrh heidelberg emphasizes practical learning and industry relevance.',\n",
       " \"i was impressed by the university's emphasis on hands-on projects, internships, and real-world applications.\",\n",
       " 'this approach will provide me with valuable experience and prepare me for the challenges of the advertising industry.',\n",
       " 'huy nguygen, student applied data science and analytics (m.sc.)',\n",
       " 'student supriya nayak portraitfoto\\nwith the latest tools like tableau, r studio, apache spark, and python, we were able to analyze, manage, and visualize data to create meaningful business insights.',\n",
       " 'coming from the field of training and business management, choosing this program was my best decision to start my career in the technical field.',\n",
       " 'supriya nayak, student applied data science and analytics (m.sc.)',\n",
       " 'your lecturers\\nwe help you achieve your goals\\n\\n\\nadmission requirements\\nour requirements\\nfirst degree (i.e.',\n",
       " 'first degree qualifying for a profession) in computer science, data science, information technology, artificial intelligence, data analysis, mathematics, business informatics awarded with 180 cps.',\n",
       " 'english proficiency proof: the students need to be capable of following an english-language course and understanding english- language professional literature.',\n",
       " 'the proficiency of the english language has to be proven through a passed toefl test of at least 80 points,  ielts (6.5), duolingo (110), moi (medium of instruction letter)\\nknowledge of machine learning, natural language processing, data warehousing, statistics, data management, data mining is desired\\nprogramming experience with python, r is a plus\\nyou do not qualify?',\n",
       " 'no problem, srh has its international college for students who do not qualify for direct entry into our programmes or need to bring up their english language level.',\n",
       " 'you can choose from our foundation programmes at the college.',\n",
       " 'this is a direct pathway into our university.',\n",
       " 'find more about here .',\n",
       " 'https://www.srh-international-college.de/\\n\\nfees and funding\\nyour tuition fees\\n790 eur per month full-time + one-time registration fee of 750 eur (prices apply only to students from the european economic area).',\n",
       " 'applicants from non-eea countries without permanent residence permit need to pay a tuition fee of 6,450 eur per semester + one-time registration fee of 1,000 eur and must pay the tuition fees for one semester in advance.',\n",
       " 'from the second semester onwards the payments for the remaining semesters of study are due six weeks before the end of the period of study already paid for.',\n",
       " 'the payments have to be done semesterwise.',\n",
       " 'for more information and payment modalities, please refer to the current fee schedules (valid from 01.04.2023): \\n\\nfees schedule eea students\\nfees schedule non-eea students\\n\\napply now\\napplication process and deadlines\\nif youâ€™re interested in our masterâ€™s programme, simply send us your application online.',\n",
       " 'if you encounter technical difficulties with the online application or have any questions about your application, simin chen will be happy to help you.',\n",
       " 'if you meet all the requirements, weâ€™ll send you the acceptance letter and the study contract.',\n",
       " 'you then sign the study contract and return it to us (applies only to applicants from germany and the eu).',\n",
       " 'you pay the registration fee (applicable to all students) and, in some cases, one semesterâ€™s advance payment (applies only to students from non-eu/eea countries).',\n",
       " 'we then issue your final letter of acceptance.',\n",
       " 'you take part in our welcome days â€“ and then embark on your degree programme!',\n",
       " 'projects\\nyou might also be interested in this.',\n",
       " 'aps certificate\\nplease note that special conditions apply to applicants from some countries: \\n\\nindia\\nfrom 1st of november 2022, applicants from india will be required to have their documents verified by the academic evaluation centre new delhi (aps-india) before applying for a visa.',\n",
       " 'after successful verification you will receive a certificate which allows you to initiate the visa process.',\n",
       " 'please note that the verification process at aps-india is expected to take approximately 4 weeks.',\n",
       " 'we recommend that you apply for the aps certificate at the same time as you apply to srh university heidelberg.',\n",
       " 'for more information, go to the aps-india website: www.aps-india.de \\n\\nthe peopleâ€™s republic of china\\nthe procedure of the academic evaluation centre of the cultural section at the german embassy in bejing (akademische prã¼fstelle â€“ aps) must have been successfully completed before you apply.',\n",
       " 'the centre checks documents for authenticity and conducts interviews.',\n",
       " 'the original aps certificate must be enclosed with the application documents.',\n",
       " 'for more information, go to the aps website at: www.aps.org.cn.',\n",
       " 'please note that you donâ€™t need to complete the aps procedure if you apply for our 3+1 programmes.',\n",
       " 'vietnam\\nthe academic evaluation centre of the german embassy in hanoi has been checking the university entrance qualifications of vietnamese applicants since 2007. the procedure includes checking the submitted written documents as well as an interview with the applicant.',\n",
       " 'an original copy of proof of successful completion of this process, the aps certificate, must be enclosed with the application documents.',\n",
       " 'studentin mit handy in der hand lã¤uft an einer roten wand vorbei\\nyour way into the future\\nget started now\\napply here\\nimpressions\\nbig data fest\\nby playing this video, the provider may store personal data such as your ip address.',\n",
       " 'you might also be interested in\\nour projects\\n\\n\\nyour contact\\nif you have any questions, our team is happy to help you\\n\\n\\n\\nall about your studies\\nbachelor\\nmaster\\napplications and admissions\\nstudy in germany\\nyour exchange semester at our university\\neat, live and learn on campus\\n\\nour university\\nabout us\\nthe core principle\\nour schools\\nour international office\\nyour contact at srh university heidelberg\\ninfo.hshd@srh.de\\n+49 6221 6799-000\\nsrh universities\\nstudy@srh.de\\n+49 6221 6799-000\\ncontact via whatsapp\\nsrh hochschule heidelberg\\nâ© 2024 \\ncookies\\n \\ndata privacy policy\\n \\nlegal notice\\n \\ncontact\\n\\n\\n\\nyour curriculum\\n4 semesters\\n120 ects\\n\\n1st semester\\n30\\n1st semester\\nfirst steps into case studies\\n\\n5\\ndata analytics 1: statistics and machine learning\\n\\n8\\ndata visualisation and storytelling 1: design basics\\n\\n2\\nbig data programming 1: python\\n\\n6\\ndata engineering 1: big data databases\\n\\n5\\ndata management 1: data acquisition and data cleaning\\n\\n4\\n2nd semester\\n32\\n2. semester\\ndata analytics 2: text mining and natural language processing\\n\\n7\\ndata engineering 2: big data architectures\\n\\n6\\ndata visualisation and storytelling 1: designing interactive dashboards\\n\\n5\\nprivacy, ethics and international law\\n\\n6\\ncase study 1\\n\\n8\\n3rd semester\\n31\\n3. semester\\ndata management 2: data curation and data management\\n\\n4\\ndata visualisation and storytelling 2: advanced data visualization\\n\\n5\\ndata analytics 3: deep learning\\n\\n8\\nelective module: case study 2 or internship\\n\\n14\\n4th semester\\n27\\n4. semester\\nmaster thesis\\n\\n27\\napplied data science and analytics\\napplied data science and analytics\\nmaster of science\\nbig data - challenges\\n20 october 2021 srh hochschule heidelberg â€“ bdba 2\\ndiscovery\\ndata \\nquality\\nstorage security\\nanalytics\\ndifficulty in finding \\npatterns and insights\\nproblem managing \\nlarge amount of data \\nsets\\nkeeping data secure is \\na challenge\\nperforming right \\nanalysis\\nmessy, \\ninconsistent,\\nincomplete \\nsrh hochschule heidelberg â€“ prof. dr. swati chandna\\nlearning outcomes\\nâ€¢ in-depth knowledge and understanding of applied data \\nscience.',\n",
       " 'â€¢ application of analytical techniques and machine \\nlearning/deep learning algorithms to solve complex data \\nproblems in business.',\n",
       " 'â€¢ skills you need to leverage data to reveal valuable \\ninsights and help make customers valuable decisions.',\n",
       " 'â€¢ formulate technical problem solutions and represent \\nthem in discourse.',\n",
       " '1/23/22 3 srh hochschule heidelberg â€“ prof. dr. swati chandna\\nmasters in applied data science and analytics\\n4\\nunderstand\\ncollect\\nclean visualize\\nanalyze resolve\\ncase studies\\ndata engineering\\ndata management\\nanalytics\\nvisualisation\\ndata storytelling und communication\\nsrh hochschule heidelberg â€“ prof. dr. swati chandna\\ncourse curriculum\\nsrh hochschule heidelberg â€“ prof. dr. swati chandna 5\\nstudy according to the core principle\\ncompetence oriented research and education\\nour activated teaching & learning method\\nâ€” group project, flipped classroom, case studies, project pitches from \\nlocal companies\\nâ€” practical teaching and exams\\nâ€” 5-week blocks â€“ no end of the semester exam stress!',\n",
       " 'â€” focus only on 1-2 subjects in 5 week blocks\\nâ€” direct contact hours with professors \\nsrh hochschule heidelberg â€“ prof. dr. swati chandna 6\\nthank you!!',\n",
       " 'prof. dr. swati chandna\\nstudy programme director \\napplied data science and analytics, m.sc.',\n",
       " 'swati.chandna@srh.de\\nadmissions office\\nstudyinheidelberg@srh.de\\nconnect with your students on unibuddy\\n7\\n@hsheidelberg\\n@srhhochschulehd\\n@srhhochschulehd\\n@srh hochschuleheidelberg\\nsrh university of applied sciences heidelberg\\nbachelor\\nmaster\\nmba\\ncertificates\\nen\\n\\n\\nto the overview of people\\nprofessor\\nprof. dr.-ing.',\n",
       " 'swati chandna\\nfaculty of information, media and design | professor of data science | head of applied data science and analytics (m.sc) | country representative india\\n\\nspace:lgs 6, 2nd floor, arc 215\\nemail:\\nswati.chandna@srh.de\\nfax:\\n+49 6221 6799-202\\ntelephone:\\n+49 6221 6799-223\\nportraifoto swati chandna\\ncourses of studies\\nin these degree programmes, we see ourselves\\n\\n\\nabout me\\nabout me\\nmarch 2021 - current\\nhead of applied data science and analytics (m.sc), srh university of applied sciences heidelberg\\napril 2020\\nprofessor of data science, srh university of applied sciences heidelberg\\nfebruary 2019 - april 2020\\nsenior data scientist, devoteam\\nmay 2018\\ndoctorate as dr. -ing.',\n",
       " 'at the karlsruhe institute of technology\\nmarch 2013 - june 2018\\nresearch associate, karlsruhe institute of technology\\nexcerpt\\ni have contributed to these publications\\n\\nbooks and brochures\\nbusch, h., & chandna, s. (2017).',\n",
       " 'ecodicology: the computer and the mediaeval library (vol.',\n",
       " '11, pp.',\n",
       " '3-23).',\n",
       " 'books on demand.',\n",
       " 'peer review\\nchandna, s., & singhal, a.',\n",
       " '(2022, january).',\n",
       " 'towards outdoor navigation system for visually impaired people using yolov5.',\n",
       " 'in 2022 12th international conference on cloud computing, data science & engineering (confluence) (pp.',\n",
       " '617-622).',\n",
       " 'ieee.',\n",
       " 'bhalekar, n. s., & chandna, s. (2022) a smart fitness application for pregnancy that recommends workout plans based on health conditions.',\n",
       " 'pednekar, s. a., & chandna, s. (2022) optimizing business sales and improving user experience by using intelligent user interface.',\n",
       " 'dsouza, r. c., chandna, s., & von gunten, e. (2022).',\n",
       " 'ihr therapaut: a smartphone based user interface for people with sensorimotor injuries.',\n",
       " 'in international conference on human-computer interaction (pp.',\n",
       " '494-501).',\n",
       " 'springer, cham.',\n",
       " 'dalvi, t., & chandna, s. (2022).',\n",
       " 'korb: design and development of a user interface that presents an expense comparison across supermarkets with online delivery service.',\n",
       " 'in international conference on human-computer interaction (pp.',\n",
       " '477-484).',\n",
       " 'springer, cham.',\n",
       " 'gueye, a. a., & chandna, s. (2022).',\n",
       " 'd-braille: a digital learning application for people with low vision.',\n",
       " 'in international conference on human-computer interaction (pp.',\n",
       " '455-465).',\n",
       " 'springer, cham.',\n",
       " 'thakur, p., & chandna, s. (2022).',\n",
       " 'misohungry: a platform that encourages easy access to recipe search, management, and traditional recipes.',\n",
       " 'in international conference on human-computer interaction (pp.',\n",
       " '249-264).',\n",
       " 'springer, cham.',\n",
       " 'kumari, s., muhuri, s., & chandna, s. (2021, december).',\n",
       " 'enhancing network robustness using statistical approach based rewiring strategy.',\n",
       " 'in international advanced computing conference (pp.',\n",
       " '633-645).',\n",
       " 'springer, cham.',\n",
       " 'riãÿler-pipka, n., chandna, s., & tonne, d. (2017).',\n",
       " 'automatische bild-text-analyse: chancen fã¼r die zeitschriftenforschung jenseits von reinen textdaten.',\n",
       " 'in dhd.',\n",
       " 'chandna, s. (2019).',\n",
       " 'automatic layout analysis and visual exploration of multidimensional datasets with applications in the digital humanities.',\n",
       " 'chandna, s., rindone, f., dachsbacher, c., & stotzka, r. (2016, october).',\n",
       " 'quantitative exploration of large medieval manuscripts data for the codicological research.',\n",
       " 'in 2016 ieee 6th symposium on large data analysis and visualization (ldav) (pp.',\n",
       " '20-28).',\n",
       " 'ieee.',\n",
       " 'h. busch, s. chandna, d. tonne, c. krause, p. vanscheidt, and o. schmid.',\n",
       " 'visualisierung mittelalterlicher handschriften im projekt ecodicology.',\n",
       " 'in e. burr, editor, konferenzabstracts dhd 2016 â€œmodellierung - vernetzung â€“ visualisierung: die digital humanities als fã¤cherã¼bergreifendes forschungsparadigmaâ€, pages 286â€“ 287, leipzig, march 2016. nisaba verlag.',\n",
       " 'h. busch, s. chandna, d. tonne, c. krause, p. vanscheidt, and o. schmid.',\n",
       " 'quanticod revisited.',\n",
       " 'neue mã¶glichkeiten zur analyse mittelalterlicher handschriften.',\n",
       " 'in book of abstracts dhd 2015 â€œvon daten zu erkenntnissenâ€, graz, february 2016.\\nchandna, s., tonne, d., stotzka, r., busch, h., vanscheidt, p., & krause, c. (2016).',\n",
       " 'an effective visualization technique for determining co-relations in high-dimensional medieval manuscripts data.',\n",
       " 'electronic imaging, 2016(1), 1-6\\nchandna, s., tonne, d., jejkal, t., stotzka, r., krause, c., vanscheidt, p., ... & prabhune, a.',\n",
       " '(2015, february).',\n",
       " 'software workflow for the automatic tagging of medieval manuscript images (swati).',\n",
       " 'in document recognition and retrieval xxii (vol.',\n",
       " '9402, pp.',\n",
       " '23-33).',\n",
       " 'spie.',\n",
       " 'non peer-review\\nbusch, h., philippi, s., tretter, s., chandna, s., & tonne, d. (2015).',\n",
       " 'maschinen und manuskripte: digitale erschlieãÿung der handschriften von st. matthias, 13.10-20.11.',\n",
       " '2015; bibliothek des bischã¶flichen priesterseminars trier.',\n",
       " 'universitã¤tsdruckerei trier.',\n",
       " 'vanscheidt, p., busch, h., chandna, s., & krause, c. (2015).',\n",
       " 'quanticod revisited.',\n",
       " 'neue ansã¤tze zur quantitativen analyse mittelalterlicher handschriftenbestã¤nde.',\n",
       " 'konferenzbeitrã¤ge und vortrã¤ge\\ns. chandna and c. krause.',\n",
       " 'â€œvom bild zum text und wieder zurã¼ck.',\n",
       " 'quantitative forschung mit mittelalterlichen handschriften im projekt ecodicologyâ€.',\n",
       " 'in workshop: â€œformen der digitalen edition und prã¤sentation beschrifteter artefakteâ€, heidelberg, germany, 05.12.2014.\\nbusch, hannah; chandna, swati; krause, celia; vanscheidt, philipp: â€œdevelopment of new technologies for the automatic analysis of medieval manuscriptsâ€, in â€œmã¶glichkeiten der automatischen manuskript manuskriptanalyseâ€, trier, germany, 25.02.2014.\\ns. chandna.',\n",
       " 'software workflow for the automatic tagging of medieval manuscript images (swati).',\n",
       " 'in spie/is&t electronic imaging, pages 940206â€“940206.',\n",
       " 'international society for optics and photonics, san francisco, california, usa, 11.02.2015.\\ns. chandna.',\n",
       " 'â€œthe technical perspective of ecodicologyâ€, in workshop: mã¶glichkeiten der automatischen mustererkennung und analyse historischer dokumente, karlsruhe, germany 19.02.2015.\\ns. chandna.',\n",
       " 'an effective visualization technique for determining co-relations in high-dimensional medieval manuscripts data.',\n",
       " 'in electronic imaging, san francisco, california, usa, 16.02.2016. \\ns. chandna.',\n",
       " 'quantitative exploration of large medieval manuscripts data for the codicological research.',\n",
       " 'in large data analysis and visualization (ldav), 23.10.2016\\ns. chandna, h. busch, o. schmid.',\n",
       " 'â€œecodicology-algorithms for the automatic tagging of medieval manuscriptsâ€.',\n",
       " 'in workshop: forschung mit schriftquellen in digitalen zeitalter, darmstadt, 23.03.2016\\ns. chandna and n. riãÿler-pipka.',\n",
       " 'automatische bild-text-analyze: chancen fã¼r die zeitschriftenforschung jenseits von reinen textdaten.',\n",
       " 'in dhd 2017 digitale nachhaltigkeit, bern, switzerland, 16.02.2017\\ns. chandna.',\n",
       " 'training workshop for software workflow for the automatic tagging of images (swati).',\n",
       " ', karlsruhe, germany, 16.05.2017\\ns.chandna, \"towards outdoor navigation system for visually impaired people using yolov5\" confluence, india 2022\\n \\n\\n\\nã–ffentliche medienbeitrã¤ge\\nchandna, s (19. februar 2015) informatiker entrã¤tseln alte manuskripte (sueddeutsche zeitung) https://www.sueddeutsche.de/wissen/forschung-der-name-der-rose-informatiker-entraetseln-alte-manuskripte-dpa.urn-newsml-dpa-com-20090101-150219-99-07629 \\n\\nmentoring@srh\\nmentoring fã¼r frauen von frauen!',\n",
       " 'fã¼r wirtschaft und wissenschaft sind die weiblichen talente unverzichtbar.',\n",
       " 'wir unterstã¼tzen dich auf deinem weg mit rat und tat!',\n",
       " 'jetzt mehr erfahren\\n\\nrund um dein studium\\nbachelor\\nmaster\\nbewerbung und zulassung\\ninfotage und messen\\nstudiere und lebe auf dem campus\\ninternational durchstarten\\nstudienfinanzierung\\n\\nan unserer hochschule\\nwas uns ausmacht\\nstudieren nach dem core prinzip\\nhochschulteam\\nunsere fakultã¤ten\\nunsere institute\\ninternationales\\nforschung\\nkarriere\\ndein kontakt zur srh hochschule heidelberg\\ninfo.hshd@srh.de\\n+49 6221 6799-000\\ndein kontakt zum srh hochschulverbund\\nstudy@srh.de\\n+49 6221 6799-000\\nper whatsapp kontaktieren\\nfacebook\\ninstagram\\nlinkedin\\ntwitter\\nyoutube\\nsrh hochschule heidelberg\\nâ© 2024 \\ncookie-einstellungen\\n \\ndatenschutz\\n \\nimpressum\\n \\nkontakt\\n \\nlieferkette & sorgfaltspflichten\\n \\nsrh holding\\n\\napply\\n\\n\\nto apply for the course click on the link :\"https://apply.srh.de/en_gb/courses/course/242-msc-applied-data-science-and-analytics/\"']"
      ]
     },
     "execution_count": 28,
     "metadata": {},
     "output_type": "execute_result"
    }
   ],
   "source": [
    "sentence_tokens"
   ]
  },
  {
   "cell_type": "code",
   "execution_count": 29,
   "metadata": {},
   "outputs": [
    {
     "data": {
      "text/plain": [
       "['all', 'about', 'your', 'studies', 'bachelor']"
      ]
     },
     "execution_count": 29,
     "metadata": {},
     "output_type": "execute_result"
    }
   ],
   "source": [
    "word_tokens[:5]"
   ]
  },
  {
   "cell_type": "code",
   "execution_count": 30,
   "metadata": {},
   "outputs": [],
   "source": [
    "lemmer = nltk.stem.WordNetLemmatizer()\n",
    "\n",
    "def LemTokens (tokens):\n",
    " return [lemmer.lemmatize (token) for token in tokens]\n",
    "remove_punc_dict = dict((ord (punct), None) for punct in string.punctuation)\n",
    "\n",
    "def LemNormalize(text):\n",
    " return LemTokens (nltk.word_tokenize (text.lower().translate (remove_punc_dict)))"
   ]
  },
  {
   "cell_type": "code",
   "execution_count": 31,
   "metadata": {},
   "outputs": [],
   "source": [
    "greet_inputs = ('hello', 'hi', 'whas sup', 'how are you?')\n",
    "greet_responses = ('Hi', 'Hey', 'Hey There!', 'There there!!')\n",
    "def greet (sentence):\n",
    " for word in sentence.split():\n",
    "    if word. lower() in greet_inputs:\n",
    "       return random.choice (greet_responses)"
   ]
  },
  {
   "cell_type": "code",
   "execution_count": 32,
   "metadata": {},
   "outputs": [],
   "source": [
    "from sklearn.feature_extraction.text import TfidfVectorizer\n",
    "from sklearn.metrics.pairwise import cosine_similarity"
   ]
  },
  {
   "cell_type": "code",
   "execution_count": 33,
   "metadata": {},
   "outputs": [],
   "source": [
    "def response(user_response):\n",
    "    robo1_response =''\n",
    "    TfidfVec = TfidfVectorizer(tokenizer = LemNormalize, stop_words = 'english')\n",
    "    tfidf = TfidfVec.fit_transform(sentence_tokens)\n",
    "    vals = cosine_similarity (tfidf [-1], tfidf)\n",
    "    idx = vals.argsort()[0][-2]\n",
    "    flat = vals.flatten()\n",
    "    flat.sort()\n",
    "    req_tfidf = flat[-2]\n",
    "    if (req_tfidf == 0):\n",
    "     robo1_response = robo1_response + \"I am sorry. Unable to understand you!\"\n",
    "     return robo1_response\n",
    "    else:\n",
    "     robo1_response = robo1_response+ sentence_tokens[idx]\n",
    "     return robo1_response"
   ]
  },
  {
   "cell_type": "code",
   "execution_count": 34,
   "metadata": {},
   "outputs": [
    {
     "name": "stdout",
     "output_type": "stream",
     "text": [
      "Hello! I am the Retreival Learning Bot. Start typing your text after greeting to talk to me. For ending convo type bye!\n"
     ]
    },
    {
     "name": "stderr",
     "output_type": "stream",
     "text": [
      "c:\\Users\\hsrak\\AppData\\Local\\Programs\\Python\\Python312\\Lib\\site-packages\\sklearn\\feature_extraction\\text.py:525: UserWarning: The parameter 'token_pattern' will not be used since 'tokenizer' is not None'\n",
      "  warnings.warn(\n",
      "c:\\Users\\hsrak\\AppData\\Local\\Programs\\Python\\Python312\\Lib\\site-packages\\sklearn\\feature_extraction\\text.py:408: UserWarning: Your stop_words may be inconsistent with your preprocessing. Tokenizing the stop words generated tokens ['ha', 'le', 'u', 'wa'] not in stop_words.\n",
      "  warnings.warn(\n"
     ]
    },
    {
     "name": "stdout",
     "output_type": "stream",
     "text": [
      "i need into about masters\n",
      "Bot: master\n",
      "applied data science and analytics\n",
      "master of science (m.sc.)\n",
      "who is dean\n",
      "Bot: I am sorry. Unable to understand you!\n",
      "head of data science\n",
      "Bot: swati chandna\n",
      "faculty of information, media and design | professor of data science | head of applied data science and analytics (m.sc) | country representative india\n",
      "\n",
      "space:lgs 6, 2nd floor, arc 215\n",
      "email:\n",
      "swati.chandna@srh.de\n",
      "fax:\n",
      "+49 6221 6799-202\n",
      "telephone:\n",
      "+49 6221 6799-223\n",
      "portraifoto swati chandna\n",
      "courses of studies\n",
      "in these degree programmes, we see ourselves\n",
      "\n",
      "\n",
      "about me\n",
      "about me\n",
      "march 2021 - current\n",
      "head of applied data science and analytics (m.sc), srh university of applied sciences heidelberg\n",
      "april 2020\n",
      "professor of data science, srh university of applied sciences heidelberg\n",
      "february 2019 - april 2020\n",
      "senior data scientist, devoteam\n",
      "may 2018\n",
      "doctorate as dr. -ing.\n",
      "Bot: Goodbye!\n"
     ]
    }
   ],
   "source": [
    "flag = True\n",
    "print('Hello! I am the Retreival Learning Bot. Start typing your text after greeting to talk to me. For ending convo type bye!')\n",
    "\n",
    "while flag:\n",
    "    user_response = input().lower()\n",
    "    \n",
    "    if user_response!= 'bye':\n",
    "        if user_response in ['thank you', 'thanks']:\n",
    "            flag = False\n",
    "            print('Bot: You are welcome..')\n",
    "        else:\n",
    "            if greet(user_response) is not None:\n",
    "                print('Bot ' + greet(user_response))\n",
    "            else:\n",
    "                print(user_response)\n",
    "                sentence_tokens.append(user_response)\n",
    "                word_tokens = word_tokens + nltk.word_tokenize(user_response)\n",
    "                final_words = list(set(word_tokens))\n",
    "                print('Bot: ', end='')\n",
    "                print(response(user_response))\n",
    "                sentence_tokens.remove(user_response)\n",
    "    else:\n",
    "        flag = False\n",
    "        print('Bot: Goodbye!')"
   ]
  }
 ],
 "metadata": {
  "kernelspec": {
   "display_name": "Python 3",
   "language": "python",
   "name": "python3"
  },
  "language_info": {
   "codemirror_mode": {
    "name": "ipython",
    "version": 3
   },
   "file_extension": ".py",
   "mimetype": "text/x-python",
   "name": "python",
   "nbconvert_exporter": "python",
   "pygments_lexer": "ipython3",
   "version": "3.12.2"
  }
 },
 "nbformat": 4,
 "nbformat_minor": 2
}
